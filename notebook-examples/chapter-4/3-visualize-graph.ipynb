{
 "cells": [
  {
   "cell_type": "code",
   "execution_count": 1,
   "metadata": {
    "scrolled": true
   },
   "outputs": [
    {
     "name": "stdout",
     "output_type": "stream",
     "text": [
      "((47, 3), <type 'numpy.ndarray'>)\n",
      "((47, 1), <type 'numpy.ndarray'>)\n"
     ]
    }
   ],
   "source": [
    "import pandas as pd\n",
    "import numpy as np\n",
    "\n",
    "def normalize_feature(df):\n",
    "    return df.apply(lambda column: (column - column.mean()) / column.std())\n",
    "\n",
    "\n",
    "df = normalize_feature(pd.read_csv('data1.csv',\n",
    "                                   names=['square', 'bedrooms', 'price']))\n",
    "\n",
    "ones = pd.DataFrame({'ones': np.ones(len(df))})# ones是n行1列的数据框，表示x0恒为1\n",
    "df = pd.concat([ones, df], axis=1)  # 根据列合并数据\n",
    "\n",
    "X_data = np.array(df[df.columns[0:3]])\n",
    "y_data = np.array(df[df.columns[-1]]).reshape(len(df), 1)\n",
    "\n",
    "print(X_data.shape, type(X_data))\n",
    "print(y_data.shape, type(y_data))"
   ]
  },
  {
   "cell_type": "markdown",
   "metadata": {},
   "source": [
    "## 创建线性回归模型（数据流图）"
   ]
  },
  {
   "cell_type": "code",
   "execution_count": 2,
   "metadata": {},
   "outputs": [],
   "source": [
    "import tensorflow as tf\n",
    "\n",
    "alpha = 0.01 # 学习率 alpha\n",
    "epoch = 500 # 训练全量数据集的轮数\n",
    "\n",
    "with tf.name_scope('input'):\n",
    "    # 输入 X，形状[47, 3]\n",
    "    X = tf.placeholder(tf.float32, X_data.shape, name='X')\n",
    "    # 输出 y，形状[47, 1]\n",
    "    y = tf.placeholder(tf.float32, y_data.shape, name='y')\n",
    "\n",
    "with tf.name_scope('hypothesis'):\n",
    "    # 权重变量 W，形状[3,1]\n",
    "    W = tf.get_variable(\"weights\",\n",
    "                        (X_data.shape[1], 1),\n",
    "                        initializer=tf.constant_initializer())\n",
    "    # 假设函数 h(x) = w0*x0+w1*x1+w2*x2, 其中x0恒为1\n",
    "    # 推理值 y_pred  形状[47,1]\n",
    "    y_pred = tf.matmul(X, W, name='y_pred')\n",
    "\n",
    "with tf.name_scope('loss'):\n",
    "    # 损失函数采用最小二乘法，y_pred - y 是形如[47, 1]的向量。\n",
    "    # tf.matmul(a,b,transpose_a=True) 表示：矩阵a的转置乘矩阵b，即 [1,47] X [47,1]\n",
    "    # 损失函数操作 loss\n",
    "    loss_op = 1 / (2 * len(X_data)) * tf.matmul((y_pred - y), (y_pred - y), transpose_a=True)\n",
    "with tf.name_scope('train'):\n",
    "    # 随机梯度下降优化器 opt\n",
    "    train_op = tf.train.GradientDescentOptimizer(learning_rate=alpha).minimize(loss_op)"
   ]
  },
  {
   "cell_type": "markdown",
   "metadata": {},
   "source": [
    "## 创建会话（运行环境）"
   ]
  },
  {
   "cell_type": "code",
   "execution_count": 3,
   "metadata": {},
   "outputs": [
    {
     "name": "stdout",
     "output_type": "stream",
     "text": [
      "Epoch 10 \t Loss=0 \t Model: y = 0x1 + 0x2 + 0\n",
      "Epoch 20 \t Loss=0 \t Model: y = 0x1 + 0x2 + 0\n",
      "Epoch 30 \t Loss=0 \t Model: y = 0x1 + 0x2 + 0\n",
      "Epoch 40 \t Loss=0 \t Model: y = 0x1 + 0x2 + 0\n",
      "Epoch 50 \t Loss=0 \t Model: y = 0x1 + 0x2 + 0\n",
      "Epoch 60 \t Loss=0 \t Model: y = 0x1 + 0x2 + 0\n",
      "Epoch 70 \t Loss=0 \t Model: y = 0x1 + 0x2 + 0\n",
      "Epoch 80 \t Loss=0 \t Model: y = 0x1 + 0x2 + 0\n",
      "Epoch 90 \t Loss=0 \t Model: y = 0x1 + 0x2 + 0\n",
      "Epoch 100 \t Loss=0 \t Model: y = 0x1 + 0x2 + 0\n",
      "Epoch 110 \t Loss=0 \t Model: y = 0x1 + 0x2 + 0\n",
      "Epoch 120 \t Loss=0 \t Model: y = 0x1 + 0x2 + 0\n",
      "Epoch 130 \t Loss=0 \t Model: y = 0x1 + 0x2 + 0\n",
      "Epoch 140 \t Loss=0 \t Model: y = 0x1 + 0x2 + 0\n",
      "Epoch 150 \t Loss=0 \t Model: y = 0x1 + 0x2 + 0\n",
      "Epoch 160 \t Loss=0 \t Model: y = 0x1 + 0x2 + 0\n",
      "Epoch 170 \t Loss=0 \t Model: y = 0x1 + 0x2 + 0\n",
      "Epoch 180 \t Loss=0 \t Model: y = 0x1 + 0x2 + 0\n",
      "Epoch 190 \t Loss=0 \t Model: y = 0x1 + 0x2 + 0\n",
      "Epoch 200 \t Loss=0 \t Model: y = 0x1 + 0x2 + 0\n",
      "Epoch 210 \t Loss=0 \t Model: y = 0x1 + 0x2 + 0\n",
      "Epoch 220 \t Loss=0 \t Model: y = 0x1 + 0x2 + 0\n",
      "Epoch 230 \t Loss=0 \t Model: y = 0x1 + 0x2 + 0\n",
      "Epoch 240 \t Loss=0 \t Model: y = 0x1 + 0x2 + 0\n",
      "Epoch 250 \t Loss=0 \t Model: y = 0x1 + 0x2 + 0\n",
      "Epoch 260 \t Loss=0 \t Model: y = 0x1 + 0x2 + 0\n",
      "Epoch 270 \t Loss=0 \t Model: y = 0x1 + 0x2 + 0\n",
      "Epoch 280 \t Loss=0 \t Model: y = 0x1 + 0x2 + 0\n",
      "Epoch 290 \t Loss=0 \t Model: y = 0x1 + 0x2 + 0\n",
      "Epoch 300 \t Loss=0 \t Model: y = 0x1 + 0x2 + 0\n",
      "Epoch 310 \t Loss=0 \t Model: y = 0x1 + 0x2 + 0\n",
      "Epoch 320 \t Loss=0 \t Model: y = 0x1 + 0x2 + 0\n",
      "Epoch 330 \t Loss=0 \t Model: y = 0x1 + 0x2 + 0\n",
      "Epoch 340 \t Loss=0 \t Model: y = 0x1 + 0x2 + 0\n",
      "Epoch 350 \t Loss=0 \t Model: y = 0x1 + 0x2 + 0\n",
      "Epoch 360 \t Loss=0 \t Model: y = 0x1 + 0x2 + 0\n",
      "Epoch 370 \t Loss=0 \t Model: y = 0x1 + 0x2 + 0\n",
      "Epoch 380 \t Loss=0 \t Model: y = 0x1 + 0x2 + 0\n",
      "Epoch 390 \t Loss=0 \t Model: y = 0x1 + 0x2 + 0\n",
      "Epoch 400 \t Loss=0 \t Model: y = 0x1 + 0x2 + 0\n",
      "Epoch 410 \t Loss=0 \t Model: y = 0x1 + 0x2 + 0\n",
      "Epoch 420 \t Loss=0 \t Model: y = 0x1 + 0x2 + 0\n",
      "Epoch 430 \t Loss=0 \t Model: y = 0x1 + 0x2 + 0\n",
      "Epoch 440 \t Loss=0 \t Model: y = 0x1 + 0x2 + 0\n",
      "Epoch 450 \t Loss=0 \t Model: y = 0x1 + 0x2 + 0\n",
      "Epoch 460 \t Loss=0 \t Model: y = 0x1 + 0x2 + 0\n",
      "Epoch 470 \t Loss=0 \t Model: y = 0x1 + 0x2 + 0\n",
      "Epoch 480 \t Loss=0 \t Model: y = 0x1 + 0x2 + 0\n",
      "Epoch 490 \t Loss=0 \t Model: y = 0x1 + 0x2 + 0\n",
      "Epoch 500 \t Loss=0 \t Model: y = 0x1 + 0x2 + 0\n"
     ]
    }
   ],
   "source": [
    "with tf.Session() as sess:\n",
    "    # 初始化全局变量\n",
    "    sess.run(tf.global_variables_initializer())\n",
    "    # 创建FileWriter实例，并传入当前会话加载的数据流图\n",
    "    writer = tf.summary.FileWriter('./summary/linear-regression-1', sess.graph)\n",
    "    # 开始训练模型\n",
    "    # 因为训练集较小，所以每轮都使用全量数据训练\n",
    "    for e in range(1, epoch + 1):\n",
    "        sess.run(train_op, feed_dict={X: X_data, y: y_data})\n",
    "        if e % 10 == 0:\n",
    "            loss, w = sess.run([loss_op, W], feed_dict={X: X_data, y: y_data})\n",
    "            log_str = \"Epoch %d \\t Loss=%.4g \\t Model: y = %.4gx1 + %.4gx2 + %.4g\"\n",
    "            print(log_str % (e, loss, w[1], w[2], w[0]))\n",
    "\n",
    "# 关闭FileWriter的输出流\n",
    "writer.close()            "
   ]
  },
  {
   "cell_type": "code",
   "execution_count": null,
   "metadata": {},
   "outputs": [],
   "source": []
  }
 ],
 "metadata": {
  "kernelspec": {
   "display_name": "Python 2",
   "language": "python",
   "name": "python2"
  },
  "language_info": {
   "codemirror_mode": {
    "name": "ipython",
    "version": 2
   },
   "file_extension": ".py",
   "mimetype": "text/x-python",
   "name": "python",
   "nbconvert_exporter": "python",
   "pygments_lexer": "ipython2",
   "version": "2.7.12"
  }
 },
 "nbformat": 4,
 "nbformat_minor": 2
}
