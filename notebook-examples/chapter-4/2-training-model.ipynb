{
 "cells": [
  {
   "cell_type": "code",
   "execution_count": 7,
   "metadata": {
    "scrolled": true
   },
   "outputs": [
    {
     "name": "stdout",
     "output_type": "stream",
     "text": [
      "\u001b[33mDEPRECATION: Python 2.7 will reach the end of its life on January 1st, 2020. Please upgrade your Python as Python 2.7 won't be maintained after that date. A future version of pip will drop support for Python 2.7.\u001b[0m\n",
      "Requirement already satisfied: pandas in /usr/local/lib/python2.7/dist-packages (0.24.1)\n",
      "Requirement already satisfied: python-dateutil>=2.5.0 in /usr/local/lib/python2.7/dist-packages (from pandas) (2.8.0)\n",
      "Requirement already satisfied: numpy>=1.12.0 in /usr/local/lib/python2.7/dist-packages (from pandas) (1.16.1)\n",
      "Requirement already satisfied: pytz>=2011k in /usr/local/lib/python2.7/dist-packages (from pandas) (2018.9)\n",
      "Requirement already satisfied: six>=1.5 in /usr/local/lib/python2.7/dist-packages (from python-dateutil>=2.5.0->pandas) (1.12.0)\n",
      "\u001b[33mYou are using pip version 19.0.2, however version 19.0.3 is available.\n",
      "You should consider upgrading via the 'pip install --upgrade pip' command.\u001b[0m\n",
      "\u001b[33mDEPRECATION: Python 2.7 will reach the end of its life on January 1st, 2020. Please upgrade your Python as Python 2.7 won't be maintained after that date. A future version of pip will drop support for Python 2.7.\u001b[0m\n",
      "Requirement already satisfied: matplotlib in /usr/local/lib/python2.7/dist-packages (2.2.3)\n",
      "Requirement already satisfied: pyparsing!=2.0.4,!=2.1.2,!=2.1.6,>=2.0.1 in /usr/local/lib/python2.7/dist-packages (from matplotlib) (2.3.1)\n",
      "Requirement already satisfied: backports.functools-lru-cache in /usr/local/lib/python2.7/dist-packages (from matplotlib) (1.5)\n",
      "Requirement already satisfied: subprocess32 in /usr/local/lib/python2.7/dist-packages (from matplotlib) (3.5.3)\n",
      "Requirement already satisfied: pytz in /usr/local/lib/python2.7/dist-packages (from matplotlib) (2018.9)\n",
      "Requirement already satisfied: six>=1.10 in /usr/local/lib/python2.7/dist-packages (from matplotlib) (1.12.0)\n",
      "Requirement already satisfied: python-dateutil>=2.1 in /usr/local/lib/python2.7/dist-packages (from matplotlib) (2.8.0)\n",
      "Requirement already satisfied: kiwisolver>=1.0.1 in /usr/local/lib/python2.7/dist-packages (from matplotlib) (1.0.1)\n",
      "Requirement already satisfied: cycler>=0.10 in /usr/local/lib/python2.7/dist-packages (from matplotlib) (0.10.0)\n",
      "Requirement already satisfied: numpy>=1.7.1 in /usr/local/lib/python2.7/dist-packages (from matplotlib) (1.16.1)\n",
      "Requirement already satisfied: setuptools in /usr/local/lib/python2.7/dist-packages (from kiwisolver>=1.0.1->matplotlib) (40.8.0)\n",
      "\u001b[33mYou are using pip version 19.0.2, however version 19.0.3 is available.\n",
      "You should consider upgrading via the 'pip install --upgrade pip' command.\u001b[0m\n",
      "\u001b[33mDEPRECATION: Python 2.7 will reach the end of its life on January 1st, 2020. Please upgrade your Python as Python 2.7 won't be maintained after that date. A future version of pip will drop support for Python 2.7.\u001b[0m\n",
      "Looking in indexes: https://pypi.tuna.tsinghua.edu.cn/simple\n",
      "Requirement already satisfied: seaborn in /usr/local/lib/python2.7/dist-packages (0.9.0)\n",
      "Requirement already satisfied: matplotlib>=1.4.3 in /usr/local/lib/python2.7/dist-packages (from seaborn) (2.2.3)\n",
      "Requirement already satisfied: numpy>=1.9.3 in /usr/local/lib/python2.7/dist-packages (from seaborn) (1.16.1)\n",
      "Requirement already satisfied: pandas>=0.15.2 in /usr/local/lib/python2.7/dist-packages (from seaborn) (0.24.1)\n",
      "Requirement already satisfied: scipy>=0.14.0 in /usr/local/lib/python2.7/dist-packages (from seaborn) (1.2.1)\n",
      "Requirement already satisfied: pyparsing!=2.0.4,!=2.1.2,!=2.1.6,>=2.0.1 in /usr/local/lib/python2.7/dist-packages (from matplotlib>=1.4.3->seaborn) (2.3.1)\n",
      "Requirement already satisfied: backports.functools-lru-cache in /usr/local/lib/python2.7/dist-packages (from matplotlib>=1.4.3->seaborn) (1.5)\n",
      "Requirement already satisfied: subprocess32 in /usr/local/lib/python2.7/dist-packages (from matplotlib>=1.4.3->seaborn) (3.5.3)\n",
      "Requirement already satisfied: pytz in /usr/local/lib/python2.7/dist-packages (from matplotlib>=1.4.3->seaborn) (2018.9)\n",
      "Requirement already satisfied: six>=1.10 in /usr/local/lib/python2.7/dist-packages (from matplotlib>=1.4.3->seaborn) (1.12.0)\n",
      "Requirement already satisfied: python-dateutil>=2.1 in /usr/local/lib/python2.7/dist-packages (from matplotlib>=1.4.3->seaborn) (2.8.0)\n",
      "Requirement already satisfied: kiwisolver>=1.0.1 in /usr/local/lib/python2.7/dist-packages (from matplotlib>=1.4.3->seaborn) (1.0.1)\n",
      "Requirement already satisfied: cycler>=0.10 in /usr/local/lib/python2.7/dist-packages (from matplotlib>=1.4.3->seaborn) (0.10.0)\n",
      "Requirement already satisfied: setuptools in /usr/local/lib/python2.7/dist-packages (from kiwisolver>=1.0.1->matplotlib>=1.4.3->seaborn) (40.8.0)\n",
      "\u001b[33mYou are using pip version 19.0.2, however version 19.0.3 is available.\n",
      "You should consider upgrading via the 'pip install --upgrade pip' command.\u001b[0m\n",
      "\u001b[33mDEPRECATION: Python 2.7 will reach the end of its life on January 1st, 2020. Please upgrade your Python as Python 2.7 won't be maintained after that date. A future version of pip will drop support for Python 2.7.\u001b[0m\n",
      "Looking in indexes: https://pypi.tuna.tsinghua.edu.cn/simple\n",
      "Requirement already satisfied: numpy in /usr/local/lib/python2.7/dist-packages (1.16.1)\n",
      "\u001b[33mYou are using pip version 19.0.2, however version 19.0.3 is available.\n",
      "You should consider upgrading via the 'pip install --upgrade pip' command.\u001b[0m\n"
     ]
    }
   ],
   "source": [
    "!pip install pandas\n",
    "!pip install matplotlib\n",
    "!pip install -i https://pypi.tuna.tsinghua.edu.cn/simple seaborn\n",
    "!pip install -i https://pypi.tuna.tsinghua.edu.cn/simple numpy"
   ]
  },
  {
   "cell_type": "code",
   "execution_count": 1,
   "metadata": {},
   "outputs": [
    {
     "data": {
      "text/html": [
       "<div>\n",
       "<style scoped>\n",
       "    .dataframe tbody tr th:only-of-type {\n",
       "        vertical-align: middle;\n",
       "    }\n",
       "\n",
       "    .dataframe tbody tr th {\n",
       "        vertical-align: top;\n",
       "    }\n",
       "\n",
       "    .dataframe thead th {\n",
       "        text-align: right;\n",
       "    }\n",
       "</style>\n",
       "<table border=\"1\" class=\"dataframe\">\n",
       "  <thead>\n",
       "    <tr style=\"text-align: right;\">\n",
       "      <th></th>\n",
       "      <th>ones</th>\n",
       "      <th>square</th>\n",
       "      <th>bedrooms</th>\n",
       "      <th>price</th>\n",
       "    </tr>\n",
       "  </thead>\n",
       "  <tbody>\n",
       "    <tr>\n",
       "      <th>0</th>\n",
       "      <td>1.0</td>\n",
       "      <td>0.130010</td>\n",
       "      <td>-0.223675</td>\n",
       "      <td>0.475747</td>\n",
       "    </tr>\n",
       "    <tr>\n",
       "      <th>1</th>\n",
       "      <td>1.0</td>\n",
       "      <td>-0.504190</td>\n",
       "      <td>-0.223675</td>\n",
       "      <td>-0.084074</td>\n",
       "    </tr>\n",
       "    <tr>\n",
       "      <th>2</th>\n",
       "      <td>1.0</td>\n",
       "      <td>0.502476</td>\n",
       "      <td>-0.223675</td>\n",
       "      <td>0.228626</td>\n",
       "    </tr>\n",
       "    <tr>\n",
       "      <th>3</th>\n",
       "      <td>1.0</td>\n",
       "      <td>-0.735723</td>\n",
       "      <td>-1.537767</td>\n",
       "      <td>-0.867025</td>\n",
       "    </tr>\n",
       "    <tr>\n",
       "      <th>4</th>\n",
       "      <td>1.0</td>\n",
       "      <td>1.257476</td>\n",
       "      <td>1.090417</td>\n",
       "      <td>1.595389</td>\n",
       "    </tr>\n",
       "  </tbody>\n",
       "</table>\n",
       "</div>"
      ],
      "text/plain": [
       "   ones    square  bedrooms     price\n",
       "0   1.0  0.130010 -0.223675  0.475747\n",
       "1   1.0 -0.504190 -0.223675 -0.084074\n",
       "2   1.0  0.502476 -0.223675  0.228626\n",
       "3   1.0 -0.735723 -1.537767 -0.867025\n",
       "4   1.0  1.257476  1.090417  1.595389"
      ]
     },
     "execution_count": 1,
     "metadata": {},
     "output_type": "execute_result"
    }
   ],
   "source": [
    "import pandas as pd\n",
    "import numpy as np\n",
    "\n",
    "# 正则化函数\n",
    "def normalize_feature(df):\n",
    "    return df.apply(lambda column: (column - column.mean()) / column.std())\n",
    "\n",
    "# 载入csv\n",
    "df = normalize_feature(pd.read_csv('data1.csv',\n",
    "                                   names=['square', 'bedrooms', 'price']))\n",
    "\n",
    "# ones是n行1列的数据框，表示x0恒为1\n",
    "ones = pd.DataFrame({'ones': np.ones(len(df))})\n",
    "# 根据列合并数据\n",
    "df = pd.concat([ones, df], axis=1)\n",
    "df.head()"
   ]
  },
  {
   "cell_type": "markdown",
   "metadata": {},
   "source": [
    "## 数据处理：获取 X 和 y"
   ]
  },
  {
   "cell_type": "code",
   "execution_count": 9,
   "metadata": {},
   "outputs": [
    {
     "name": "stdout",
     "output_type": "stream",
     "text": [
      "((47, 3), <type 'numpy.ndarray'>)\n",
      "((47, 1), <type 'numpy.ndarray'>)\n",
      "[ 1.          0.13000987 -0.22367519]\n",
      "0.4757468665785908\n",
      "[ 1.         -0.50418984 -0.22367519]\n",
      "-0.08407444031258184\n",
      "[ 1.          0.50247636 -0.22367519]\n",
      "0.2286257468223446\n"
     ]
    }
   ],
   "source": [
    "# [0:3]: 第0，1，2列\n",
    "X_data = np.array(df[df.columns[0:3]])\n",
    "# [-1]: 最后一列，reshape是为了把(47,0)变成形状(47,1)\n",
    "y_data = np.array(df[df.columns[-1]]).reshape(len(df), 1)\n",
    "\n",
    "print(X_data.shape, type(X_data))\n",
    "print(y_data.shape, type(y_data))\n",
    "\n",
    "for i in [0,1,2]:\n",
    "    print(X_data.take(i,0))\n",
    "    print(y_data.take(i))"
   ]
  },
  {
   "cell_type": "markdown",
   "metadata": {},
   "source": [
    "## 创建线性回归模型（数据流图）"
   ]
  },
  {
   "cell_type": "code",
   "execution_count": 4,
   "metadata": {},
   "outputs": [
    {
     "name": "stdout",
     "output_type": "stream",
     "text": [
      "(47, 3)\n",
      "(47, 1)\n"
     ]
    }
   ],
   "source": [
    "import tensorflow as tf\n",
    "\n",
    "alpha = 0.01 # 学习率 alpha\n",
    "epoch = 500  # 训练全量数据集的轮数\n",
    "\n",
    "# 用占位符定义输入数据的数据类型和形状\n",
    "# 输入 X，类型float，形状[47, 3]\n",
    "print(X_data.shape)\n",
    "print(y_data.shape)\n",
    "X = tf.placeholder(tf.float32, X_data.shape)\n",
    "# 输出 y，类型float，形状[47, 1]\n",
    "y = tf.placeholder(tf.float32, y_data.shape)"
   ]
  },
  {
   "cell_type": "code",
   "execution_count": 5,
   "metadata": {},
   "outputs": [],
   "source": [
    "# 权重变量 W，形状(3,1)\n",
    "#   X_data.shape[0]: 第0维的维度数47（47个样本）\n",
    "#   X_data.shape[1]: 第1维的维度数3 （3个特征）\n",
    "#   因此根据第2个参数，权重变量W的形状是 (3,1)\n",
    "# 使用constant_initializer来初始化，初始化为全1\n",
    "# tf.get_variable相比tf.variable可以从checkpoint中加载时可以快速找到这些变量的值\n",
    "# 同时也支持变量的复用，单独的initializer的初始化\n",
    "# W = tf.get_variable(\"weights\", (X_data.shape[1], 1), initializer=tf.constant_initializer((1.0,1.0,1.0)))\n",
    "W = tf.get_variable(\"weights\", (X_data.shape[1], 1), initializer=tf.constant_initializer())"
   ]
  },
  {
   "cell_type": "code",
   "execution_count": 6,
   "metadata": {},
   "outputs": [],
   "source": [
    "# 假设函数 h(x) = w0*x0+w1*x1+w2*x2, 其中x0恒为1\n",
    "# 推理值 y_pred  形状[47,1]\n",
    "y_pred = tf.matmul(X, W)\n",
    "\n",
    "# 损失函数采用最小二乘法，y_pred - y 是形如[47, 1]的向量。\n",
    "# tf.matmul(a,b,transpose_a=True) 表示：矩阵a的转置乘矩阵b，即 [1,47] X [47,1]\n",
    "# tranpose_a = True表示对第一个参数做转置\n",
    "# 损失函数操作 loss\n",
    "loss_op = 1 / (2 * len(X_data)) * tf.matmul((y_pred - y), (y_pred - y), transpose_a=True)\n",
    "# 随机梯度下降优化器 opt\n",
    "opt = tf.train.GradientDescentOptimizer(learning_rate=alpha)\n",
    "# 单轮训练操作 train_op\n",
    "train_op = opt.minimize(loss_op)"
   ]
  },
  {
   "cell_type": "markdown",
   "metadata": {},
   "source": [
    "## 创建会话（运行环境）"
   ]
  },
  {
   "cell_type": "code",
   "execution_count": 7,
   "metadata": {},
   "outputs": [],
   "source": [
    "# for i in [0,1,2]:\n",
    "#    print(X_data.take(i,0))\n",
    "#    print(y_data.take(i))\n",
    "# print(train_op)\n",
    "# print(loss_op)"
   ]
  },
  {
   "cell_type": "code",
   "execution_count": 8,
   "metadata": {},
   "outputs": [
    {
     "name": "stdout",
     "output_type": "stream",
     "text": [
      "Epoch 10 \t Loss=0 \t Model: y = 0x1 + 0x2 + 0\n",
      "Epoch 20 \t Loss=0 \t Model: y = 0x1 + 0x2 + 0\n",
      "Epoch 30 \t Loss=0 \t Model: y = 0x1 + 0x2 + 0\n",
      "Epoch 40 \t Loss=0 \t Model: y = 0x1 + 0x2 + 0\n",
      "Epoch 50 \t Loss=0 \t Model: y = 0x1 + 0x2 + 0\n",
      "Epoch 60 \t Loss=0 \t Model: y = 0x1 + 0x2 + 0\n",
      "Epoch 70 \t Loss=0 \t Model: y = 0x1 + 0x2 + 0\n",
      "Epoch 80 \t Loss=0 \t Model: y = 0x1 + 0x2 + 0\n",
      "Epoch 90 \t Loss=0 \t Model: y = 0x1 + 0x2 + 0\n",
      "Epoch 100 \t Loss=0 \t Model: y = 0x1 + 0x2 + 0\n",
      "Epoch 110 \t Loss=0 \t Model: y = 0x1 + 0x2 + 0\n",
      "Epoch 120 \t Loss=0 \t Model: y = 0x1 + 0x2 + 0\n",
      "Epoch 130 \t Loss=0 \t Model: y = 0x1 + 0x2 + 0\n",
      "Epoch 140 \t Loss=0 \t Model: y = 0x1 + 0x2 + 0\n",
      "Epoch 150 \t Loss=0 \t Model: y = 0x1 + 0x2 + 0\n",
      "Epoch 160 \t Loss=0 \t Model: y = 0x1 + 0x2 + 0\n",
      "Epoch 170 \t Loss=0 \t Model: y = 0x1 + 0x2 + 0\n",
      "Epoch 180 \t Loss=0 \t Model: y = 0x1 + 0x2 + 0\n",
      "Epoch 190 \t Loss=0 \t Model: y = 0x1 + 0x2 + 0\n",
      "Epoch 200 \t Loss=0 \t Model: y = 0x1 + 0x2 + 0\n",
      "Epoch 210 \t Loss=0 \t Model: y = 0x1 + 0x2 + 0\n",
      "Epoch 220 \t Loss=0 \t Model: y = 0x1 + 0x2 + 0\n",
      "Epoch 230 \t Loss=0 \t Model: y = 0x1 + 0x2 + 0\n",
      "Epoch 240 \t Loss=0 \t Model: y = 0x1 + 0x2 + 0\n",
      "Epoch 250 \t Loss=0 \t Model: y = 0x1 + 0x2 + 0\n",
      "Epoch 260 \t Loss=0 \t Model: y = 0x1 + 0x2 + 0\n",
      "Epoch 270 \t Loss=0 \t Model: y = 0x1 + 0x2 + 0\n",
      "Epoch 280 \t Loss=0 \t Model: y = 0x1 + 0x2 + 0\n",
      "Epoch 290 \t Loss=0 \t Model: y = 0x1 + 0x2 + 0\n",
      "Epoch 300 \t Loss=0 \t Model: y = 0x1 + 0x2 + 0\n",
      "Epoch 310 \t Loss=0 \t Model: y = 0x1 + 0x2 + 0\n",
      "Epoch 320 \t Loss=0 \t Model: y = 0x1 + 0x2 + 0\n",
      "Epoch 330 \t Loss=0 \t Model: y = 0x1 + 0x2 + 0\n",
      "Epoch 340 \t Loss=0 \t Model: y = 0x1 + 0x2 + 0\n",
      "Epoch 350 \t Loss=0 \t Model: y = 0x1 + 0x2 + 0\n",
      "Epoch 360 \t Loss=0 \t Model: y = 0x1 + 0x2 + 0\n",
      "Epoch 370 \t Loss=0 \t Model: y = 0x1 + 0x2 + 0\n",
      "Epoch 380 \t Loss=0 \t Model: y = 0x1 + 0x2 + 0\n",
      "Epoch 390 \t Loss=0 \t Model: y = 0x1 + 0x2 + 0\n",
      "Epoch 400 \t Loss=0 \t Model: y = 0x1 + 0x2 + 0\n",
      "Epoch 410 \t Loss=0 \t Model: y = 0x1 + 0x2 + 0\n",
      "Epoch 420 \t Loss=0 \t Model: y = 0x1 + 0x2 + 0\n",
      "Epoch 430 \t Loss=0 \t Model: y = 0x1 + 0x2 + 0\n",
      "Epoch 440 \t Loss=0 \t Model: y = 0x1 + 0x2 + 0\n",
      "Epoch 450 \t Loss=0 \t Model: y = 0x1 + 0x2 + 0\n",
      "Epoch 460 \t Loss=0 \t Model: y = 0x1 + 0x2 + 0\n",
      "Epoch 470 \t Loss=0 \t Model: y = 0x1 + 0x2 + 0\n",
      "Epoch 480 \t Loss=0 \t Model: y = 0x1 + 0x2 + 0\n",
      "Epoch 490 \t Loss=0 \t Model: y = 0x1 + 0x2 + 0\n",
      "Epoch 500 \t Loss=0 \t Model: y = 0x1 + 0x2 + 0\n"
     ]
    }
   ],
   "source": [
    "with tf.Session() as sess:\n",
    "    # 初始化全局变量\n",
    "    sess.run(tf.global_variables_initializer())\n",
    "    # 开始训练模型，\n",
    "    # 因为训练集较小，所以每轮都使用全量数据训练\n",
    "    for e in range(1, epoch + 1):\n",
    "        sess.run(train_op, feed_dict={X: X_data, y: y_data})\n",
    "        if e % 10 == 0:\n",
    "            loss, w = sess.run([loss_op, W], feed_dict={X: X_data, y: y_data})\n",
    "            log_str = \"Epoch %d \\t Loss=%.4g \\t Model: y = %.4gx1 + %.4gx2 + %.4g\"\n",
    "            print(log_str % (e, loss, w[1], w[2], w[0]))"
   ]
  },
  {
   "cell_type": "code",
   "execution_count": null,
   "metadata": {},
   "outputs": [],
   "source": []
  },
  {
   "cell_type": "code",
   "execution_count": null,
   "metadata": {},
   "outputs": [],
   "source": []
  }
 ],
 "metadata": {
  "kernelspec": {
   "display_name": "Python 2",
   "language": "python",
   "name": "python2"
  },
  "language_info": {
   "codemirror_mode": {
    "name": "ipython",
    "version": 2
   },
   "file_extension": ".py",
   "mimetype": "text/x-python",
   "name": "python",
   "nbconvert_exporter": "python",
   "pygments_lexer": "ipython2",
   "version": "2.7.12"
  }
 },
 "nbformat": 4,
 "nbformat_minor": 2
}
