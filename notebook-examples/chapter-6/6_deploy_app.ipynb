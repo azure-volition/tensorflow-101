{
 "cells": [
  {
   "cell_type": "markdown",
   "metadata": {},
   "source": [
    "# 部署验证码识别服务\n",
    "\n",
    "## 另存为 app.py，启动 flask 来加载 app.py 文件"
   ]
  },
  {
   "cell_type": "code",
   "execution_count": 1,
   "metadata": {},
   "outputs": [
    {
     "name": "stdout",
     "output_type": "stream",
     "text": [
      "WARNING:tensorflow:From /usr/local/lib/python3.5/dist-packages/tensorflow/python/framework/op_def_library.py:263: colocate_with (from tensorflow.python.framework.ops) is deprecated and will be removed in a future version.\n",
      "Instructions for updating:\n",
      "Colocations handled automatically by placer.\n"
     ]
    },
    {
     "name": "stderr",
     "output_type": "stream",
     "text": [
      "Using TensorFlow backend.\n"
     ]
    },
    {
     "name": "stdout",
     "output_type": "stream",
     "text": [
      "WARNING:tensorflow:From /usr/local/lib/python3.5/dist-packages/keras/backend/tensorflow_backend.py:3445: calling dropout (from tensorflow.python.ops.nn_ops) with keep_prob is deprecated and will be removed in a future version.\n",
      "Instructions for updating:\n",
      "Please use `rate` instead of `keep_prob`. Rate should be set to `rate = 1 - keep_prob`.\n",
      "WARNING:tensorflow:From /usr/local/lib/python3.5/dist-packages/tensorflow/python/ops/math_ops.py:3066: to_int32 (from tensorflow.python.ops.math_ops) is deprecated and will be removed in a future version.\n",
      "Instructions for updating:\n",
      "Use tf.cast instead.\n"
     ]
    }
   ],
   "source": [
    "#!pip install -i https://pypi.tuna.tsinghua.edu.cn/simple flask\n",
    "import base64\n",
    "\n",
    "import numpy as np\n",
    "import tensorflow as tf\n",
    "\n",
    "from io import BytesIO\n",
    "from flask import Flask, request, jsonify\n",
    "from keras.models import load_model\n",
    "from PIL import Image\n",
    "\n",
    "NUMBER = ['0', '1', '2', '3', '4', '5', '6', '7', '8', '9']\n",
    "LOWERCASE = ['a', 'b', 'c', 'd', 'e', 'f', 'g', 'h', 'i', 'j', 'k', 'l', 'm', 'n', 'o', 'p', 'q', 'r', 's', 't', 'u',\n",
    "            'v', 'w', 'x', 'y', 'z']\n",
    "UPPERCASE = ['A', 'B', 'C', 'D', 'E', 'F', 'G', 'H', 'I', 'J', 'K', 'L', 'M', 'N', 'O', 'P', 'Q', 'R', 'S', 'T', 'U',\n",
    "           'V', 'W', 'X', 'Y', 'Z']\n",
    "\n",
    "CAPTCHA_CHARSET = NUMBER   # 验证码字符集\n",
    "CAPTCHA_LEN = 4            # 验证码长度\n",
    "CAPTCHA_HEIGHT = 60        # 验证码高度\n",
    "CAPTCHA_WIDTH = 160        # 验证码宽度\n",
    "\n",
    "# 10 个 Epochs 训练的模型\n",
    "MODEL_FILE = './pre-trained/model/captcha_rmsprop_binary_crossentropy_bs_100_epochs_10.h5'\n",
    "\n",
    "def vec2text(vector):\n",
    "    if not isinstance(vector, np.ndarray):\n",
    "        vector = np.asarray(vector)\n",
    "    vector = np.reshape(vector, [CAPTCHA_LEN, -1])\n",
    "    text = ''\n",
    "    for item in vector:\n",
    "        text += CAPTCHA_CHARSET[np.argmax(item)]\n",
    "    return text\n",
    "\n",
    "def rgb2gray(img):\n",
    "    # Y' = 0.299 R + 0.587 G + 0.114 B \n",
    "    # https://en.wikipedia.org/wiki/Grayscale#Converting_color_to_grayscale\n",
    "    return np.dot(img[...,:3], [0.299, 0.587, 0.114])\n",
    "\n",
    "# 创建 Flask 实例, 实例叫做 app\n",
    "app = Flask(__name__) \n",
    "\n",
    "# 测试 URL\n",
    "@app.route('/ping', methods=['GET', 'POST'])\n",
    "def hello_world():\n",
    "    return 'pong'\n",
    "\n",
    "# 验证码识别 URL\n",
    "@app.route('/predict', methods=['POST'])\n",
    "def predict():\n",
    "    # success：是否成功\n",
    "    # prediction： 预测结果\n",
    "    # debug：调试用\n",
    "    response = {'success': False, 'prediction': '', 'debug': 'error'}\n",
    "    # 是否受到图片\n",
    "    received_image= False\n",
    "    if request.method == 'POST':\n",
    "        # 图像文件\n",
    "        if request.files.get('image'): \n",
    "            # 从二进制数据中读取图像文件\n",
    "            image = request.files['image'].read()\n",
    "            received_image = True\n",
    "            response['debug'] = 'get image'\n",
    "        # base64 编码的图像文件\n",
    "        elif request.get_json(): \n",
    "            # base64解码成图像文件\n",
    "            encoded_image = request.get_json()['image']\n",
    "            image = base64.b64decode(encoded_image) \n",
    "            received_image = True\n",
    "            response['debug'] = 'get json'\n",
    "        \n",
    "        # 不论是二进制，还是base64图片\n",
    "        if received_image:\n",
    "            # 存在numpy数组\n",
    "            image = np.array(Image.open(BytesIO(image)))\n",
    "            # 转灰度图，规范化处理\n",
    "            image = rgb2gray(image).reshape(1, 60, 160, 1).astype('float32') / 255\n",
    "            # graph就是tensorFlow的数据流图，\n",
    "            # 因为keras用的也是tensorflow的后端引擎，因此as_default()会通过sess会话调用数据流图\n",
    "            with graph.as_default():\n",
    "                # 用这个数据流图来预测，\n",
    "                # model由下面的keras.models.load_model()来返会\n",
    "                pred = model.predict(image)\n",
    "            #预测成功\n",
    "            response['prediction'] = response['prediction'] + vec2text(pred)\n",
    "            response['success'] = True\n",
    "            response['debug'] = 'predicted'\n",
    "    else:\n",
    "        response['debug'] = 'No Post'\n",
    "    return jsonify(response)\n",
    "\n",
    "model = load_model(MODEL_FILE) # 加载模型\n",
    "graph = tf.get_default_graph() # 获取 TensorFlow 默认数据流图"
   ]
  },
  {
   "cell_type": "code",
   "execution_count": null,
   "metadata": {},
   "outputs": [],
   "source": []
  }
 ],
 "metadata": {
  "kernelspec": {
   "display_name": "Python 3",
   "language": "python",
   "name": "python3"
  },
  "language_info": {
   "codemirror_mode": {
    "name": "ipython",
    "version": 3
   },
   "file_extension": ".py",
   "mimetype": "text/x-python",
   "name": "python",
   "nbconvert_exporter": "python",
   "pygments_lexer": "ipython3",
   "version": "3.5.2"
  }
 },
 "nbformat": 4,
 "nbformat_minor": 2
}
