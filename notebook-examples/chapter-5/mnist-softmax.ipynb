{
 "cells": [
  {
   "cell_type": "markdown",
   "metadata": {},
   "source": [
    "## 加载 MNIST 数据集"
   ]
  },
  {
   "cell_type": "code",
   "execution_count": 1,
   "metadata": {},
   "outputs": [
    {
     "name": "stderr",
     "output_type": "stream",
     "text": [
      "Using TensorFlow backend.\n"
     ]
    }
   ],
   "source": [
    "# 不显示指定时，keras默认使用tensorflow的引擎，会打印“Using TensorFlow backend”\n",
    "# keras支持多种引擎\n",
    "from keras.datasets import mnist\n",
    "\n",
    "# X： 60000个28*28的数组，数组元素是灰度值\n",
    "# Y： 60000个样本对应的数字\n",
    "(x_train, y_train), (x_test, y_test) = mnist.load_data('mnist/mnist.npz')"
   ]
  },
  {
   "cell_type": "code",
   "execution_count": 2,
   "metadata": {},
   "outputs": [
    {
     "name": "stdout",
     "output_type": "stream",
     "text": [
      "(60000, 28, 28) <class 'numpy.ndarray'>\n",
      "(60000,) <class 'numpy.ndarray'>\n"
     ]
    }
   ],
   "source": [
    "print(x_train.shape, type(x_train))\n",
    "print(y_train.shape, type(y_train))"
   ]
  },
  {
   "cell_type": "markdown",
   "metadata": {},
   "source": [
    "## 数据处理：规范化"
   ]
  },
  {
   "cell_type": "code",
   "execution_count": 3,
   "metadata": {},
   "outputs": [
    {
     "name": "stdout",
     "output_type": "stream",
     "text": [
      "(60000, 784) <class 'numpy.ndarray'>\n",
      "(10000, 784) <class 'numpy.ndarray'>\n"
     ]
    }
   ],
   "source": [
    "# 将图像本身从[28,28]转换为[784,]，即拉平为一维数组\n",
    "# 训练集\n",
    "X_train = x_train.reshape(60000, 784)\n",
    "# 测试集\n",
    "X_test = x_test.reshape(10000, 784)\n",
    "# 查看维度信息\n",
    "print(X_train.shape, type(X_train))\n",
    "print(X_test.shape, type(X_test))"
   ]
  },
  {
   "cell_type": "code",
   "execution_count": 4,
   "metadata": {},
   "outputs": [],
   "source": [
    "# 将数据类型转换为float32\n",
    "X_train = X_train.astype('float32')\n",
    "X_test = X_test.astype('float32')\n",
    "# 数据归一化，将数值从[0-255]归一化为[0.0,1.0]区间内的浮点数\n",
    "X_train /= 255\n",
    "X_test /= 255"
   ]
  },
  {
   "cell_type": "markdown",
   "metadata": {},
   "source": [
    "## 统计训练数据中各标签数量"
   ]
  },
  {
   "cell_type": "code",
   "execution_count": 5,
   "metadata": {},
   "outputs": [
    {
     "name": "stdout",
     "output_type": "stream",
     "text": [
      "[0 1 2 3 4 5 6 7 8 9] [5923 6742 5958 6131 5842 5421 5918 6265 5851 5949]\n"
     ]
    }
   ],
   "source": [
    "import numpy as np\n",
    "import matplotlib.pyplot as plt\n",
    "\n",
    "# 看看每个label有多少个样本\n",
    "label, count = np.unique(y_train, return_counts=True)\n",
    "print(label, count)"
   ]
  },
  {
   "cell_type": "code",
   "execution_count": 6,
   "metadata": {},
   "outputs": [
    {
     "data": {
      "image/png": "[encoded data removed]",
      "text/plain": [
       "<Figure size 432x288 with 1 Axes>"
      ]
     },
     "metadata": {
      "needs_background": "light"
     },
     "output_type": "display_data"
    }
   ],
   "source": [
    "# 柱状图，横坐标是label，纵坐标是count，宽度是0.7，标题居中\n",
    "# 横坐标刻度根据label来设置\n",
    "# 纵坐标取值区间是[0,7500]\n",
    "fig = plt.figure()\n",
    "plt.bar(label, count, width = 0.7, align='center')\n",
    "plt.title(\"Label Distribution\")\n",
    "plt.xlabel(\"Label\")\n",
    "plt.ylabel(\"Count\")\n",
    "plt.xticks(label)\n",
    "plt.ylim(0,7500)\n",
    "\n",
    "# 在柱状图顶部显示纵坐标值\n",
    "for a,b in zip(label, count):\n",
    "    # 中心对称，水平对称，字体大小10，值是b\n",
    "    plt.text(a, b, '%d' % b, ha='center', va='bottom',fontsize=10)\n",
    "\n",
    "# 样本相对均匀，说明这个数据集是比较好的\n",
    "plt.show()"
   ]
  },
  {
   "cell_type": "markdown",
   "metadata": {},
   "source": [
    "## 数据处理：one-hot 编码\n",
    "\n",
    "### 几种编码方式的对比\n",
    "\n",
    "| Binary | Gray code | One-hot  |\n",
    "| ------ | --------- | -------- |\n",
    "| 000    | 000       | 00000001 |\n",
    "| 001    | 001       | 00000010 |\n",
    "| 010    | 011       | 00000100 |\n",
    "| 011    | 010       | 00001000 |\n",
    "| 100    | 110       | 00010000 |\n",
    "| 101    | 111       | 00100000 |\n",
    "| 110    | 101       | 01000000 |\n",
    "| 111    | 100       | 10000000 |\n",
    "\n",
    "### one-hot 应用\n",
    "![](https://shanelynnwebsite-mid9n9g1q9y8tt.netdna-ssl.com/wp-content/uploads/2018/01/one-hot-word-embedding-vectors.png)"
   ]
  },
  {
   "cell_type": "code",
   "execution_count": 7,
   "metadata": {},
   "outputs": [
    {
     "name": "stdout",
     "output_type": "stream",
     "text": [
      "Shape before one-hot encoding:  (60000,)\n",
      "Shape after one-hot encoding:  (60000, 10)\n"
     ]
    }
   ],
   "source": [
    "from keras.utils import np_utils\n",
    "\n",
    "# y值一共有10个值（分成10类）\n",
    "n_classes = 10 \n",
    "\n",
    "# 训练集Y值\n",
    "print(\"Shape before one-hot encoding: \", y_train.shape)\n",
    "Y_train = np_utils.to_categorical(y_train, n_classes) #one-hot编码\n",
    "print(\"Shape after one-hot encoding: \", Y_train.shape)\n",
    "\n",
    "# 测试集Y值\n",
    "Y_test = np_utils.to_categorical(y_test, n_classes)"
   ]
  },
  {
   "cell_type": "code",
   "execution_count": 8,
   "metadata": {},
   "outputs": [
    {
     "name": "stdout",
     "output_type": "stream",
     "text": [
      "5\n",
      "[0. 0. 0. 0. 0. 1. 0. 0. 0. 0.]\n"
     ]
    }
   ],
   "source": [
    "print(y_train[0])\n",
    "print(Y_train[0])"
   ]
  },
  {
   "cell_type": "markdown",
   "metadata": {},
   "source": [
    "## 使用 Keras sequential model 定义神经网络\n",
    "\n",
    "### softmax 网络层\n",
    "\n",
    "![](https://developers.google.com/machine-learning/crash-course/images/SoftmaxLayer.svg)"
   ]
  },
  {
   "cell_type": "code",
   "execution_count": 9,
   "metadata": {},
   "outputs": [
    {
     "name": "stdout",
     "output_type": "stream",
     "text": [
      "WARNING:tensorflow:From /usr/local/lib/python3.5/dist-packages/tensorflow/python/framework/op_def_library.py:263: colocate_with (from tensorflow.python.framework.ops) is deprecated and will be removed in a future version.\n",
      "Instructions for updating:\n",
      "Colocations handled automatically by placer.\n"
     ]
    }
   ],
   "source": [
    "from keras.models import Sequential\n",
    "from keras.layers.core import Dense, Activation\n",
    "\n",
    "# 线性定义神经网络层的高层API\n",
    "# 在这个代码块定义了前向传播\n",
    "model = Sequential()\n",
    "\n",
    "# 第1层：全链接隐藏层、512个神经元，输入向量是784长度的向量，对应784个像素，激活层是RELU\n",
    "model.add(Dense(512, input_shape=(784,)))\n",
    "model.add(Activation('relu'))                            \n",
    "\n",
    "# 第2层：全链接隐藏层、512个神经元，输入用默认值（上一层的输出：W*X经过Relu激活后）\n",
    "model.add(Dense(512))\n",
    "model.add(Activation('relu'))\n",
    "\n",
    "# 最后一层：10个神经元的全链接层，对应softmax的10个分类类别\n",
    "model.add(Dense(10))\n",
    "model.add(Activation('softmax'))"
   ]
  },
  {
   "cell_type": "markdown",
   "metadata": {},
   "source": [
    "## 编译模型\n",
    "\n",
    "[model.compile()](https://keras.io/models/sequential/#compile)\n",
    "\n",
    "```python\n",
    "compile(optimizer, loss=None, metrics=None, loss_weights=None, sample_weight_mode=None, weighted_metrics=None, target_tensors=None)\n",
    "```"
   ]
  },
  {
   "cell_type": "code",
   "execution_count": 10,
   "metadata": {},
   "outputs": [],
   "source": [
    "# 本质上是在做数据流图的反向传播\n",
    "# optimizer：指定optimizer之后，这个代码块也定义了后向传播；adam有自适应超参数调整、比随机梯度下降效率更高\n",
    "# loss：使用了交叉熵\n",
    "# metrics：主要关注准确率\n",
    "model.compile(loss='categorical_crossentropy', metrics=['accuracy'], optimizer='adam')\n",
    "\n",
    "# 到这一步，完整的数据流图已经定义好了"
   ]
  },
  {
   "cell_type": "markdown",
   "metadata": {},
   "source": [
    "## 训练模型，并将指标保存到 history 中\n",
    "\n",
    "[model.fit()](https://keras.io/models/sequential/#fit)\n",
    "\n",
    "```python\n",
    "fit(x=None, y=None, batch_size=None, epochs=1, verbose=1, callbacks=None, validation_split=0.0, validation_data=None, shuffle=True, class_weight=None, sample_weight=None, initial_epoch=0, steps_per_epoch=None, validation_steps=None)\n",
    "```"
   ]
  },
  {
   "cell_type": "code",
   "execution_count": 11,
   "metadata": {},
   "outputs": [
    {
     "name": "stdout",
     "output_type": "stream",
     "text": [
      "WARNING:tensorflow:From /usr/local/lib/python3.5/dist-packages/tensorflow/python/ops/math_ops.py:3066: to_int32 (from tensorflow.python.ops.math_ops) is deprecated and will be removed in a future version.\n",
      "Instructions for updating:\n",
      "Use tf.cast instead.\n",
      "Train on 60000 samples, validate on 10000 samples\n",
      "Epoch 1/5\n",
      " - 6s - loss: 0.2182 - acc: 0.9349 - val_loss: 0.1088 - val_acc: 0.9658\n",
      "Epoch 2/5\n",
      " - 6s - loss: 0.0802 - acc: 0.9754 - val_loss: 0.0766 - val_acc: 0.9767\n",
      "Epoch 3/5\n",
      " - 6s - loss: 0.0509 - acc: 0.9838 - val_loss: 0.0775 - val_acc: 0.9766\n",
      "Epoch 4/5\n",
      " - 6s - loss: 0.0347 - acc: 0.9890 - val_loss: 0.0839 - val_acc: 0.9729\n",
      "Epoch 5/5\n",
      " - 6s - loss: 0.0265 - acc: 0.9915 - val_loss: 0.0852 - val_acc: 0.9751\n"
     ]
    }
   ],
   "source": [
    "# 用底层API需要了解基础概念\n",
    "# keras隐藏掉了一些底层的概念\n",
    "history = model.fit(X_train, #样本特征\n",
    "                    Y_train, #样本标签\n",
    "                    batch_size=128, #每一步训练只输入128张图片\n",
    "                    epochs=5, #一共遍历5次（每个样本都被训练5次）\n",
    "                    verbose=2, #日志输出的复杂度\n",
    "                    validation_data=(X_test, Y_test) #测试样本\n",
    "                   ) \n",
    "#日志输出：训练集loss、准确率；测试集loss、准确率"
   ]
  },
  {
   "cell_type": "markdown",
   "metadata": {},
   "source": [
    "## 可视化指标"
   ]
  },
  {
   "cell_type": "code",
   "execution_count": 15,
   "metadata": {},
   "outputs": [
    {
     "name": "stdout",
     "output_type": "stream",
     "text": [
      "{'val_loss': [0.10884380709528924, 0.07659384431568905, 0.07745792221873998, 0.08389661893583834, 0.08524727717414499], 'loss': [0.21817836205561955, 0.08021711114645004, 0.05094413233399391, 0.03465126579453548, 0.026466431617240112], 'val_acc': [0.9658, 0.9767, 0.9766, 0.9729, 0.9751], 'acc': [0.9349333333333333, 0.9753666666984558, 0.9837833333651225, 0.989, 0.9915]}\n"
     ]
    }
   ],
   "source": [
    "# 下面以字典的方式获取数据，字典key都封装在keras的model中\n",
    "print(history.history)"
   ]
  },
  {
   "cell_type": "code",
   "execution_count": 18,
   "metadata": {},
   "outputs": [
    {
     "data": {
      "image/png": "[encoded data removed]",
      "text/plain": [
       "<Figure size 432x288 with 2 Axes>"
      ]
     },
     "metadata": {
      "needs_background": "light"
     },
     "output_type": "display_data"
    }
   ],
   "source": [
    "# 准确率变化情况\n",
    "# 第一轮时测试集准确率达到很高水平，因为是在点1的模型参数预测点0的样本，所以准确率比较高\n",
    "fig = plt.figure()\n",
    "plt.subplot(2,1,1) #绘制子图\n",
    "plt.plot(history.history['acc'])  #训练集准确率，绘制点\n",
    "plt.plot(history.history['val_acc'])  #测试集准确率，绘制点\n",
    "plt.title('Model Accuracy')  #标题\n",
    "plt.ylabel('accuracy') #Y轴名称\n",
    "plt.xlabel('epoch') #X轴名称\n",
    "plt.legend(['train', 'test'], loc='lower right') #图例,参数1时训练集测试集的名称\n",
    "\n",
    "# Loss值变化情况\n",
    "# 开始时比较大，第一轮之后降低到比较低的水平\n",
    "plt.subplot(2,1,2)\n",
    "plt.plot(history.history['loss'])\n",
    "plt.plot(history.history['val_loss'])\n",
    "plt.title('Model Loss')\n",
    "plt.ylabel('loss')\n",
    "plt.xlabel('epoch')\n",
    "plt.legend(['Train Set', 'Test Set'], loc='upper right')\n",
    "plt.tight_layout()\n",
    "\n",
    "plt.show()"
   ]
  },
  {
   "cell_type": "markdown",
   "metadata": {},
   "source": [
    "## 保存模型\n",
    "\n",
    "[model.save()](https://keras.io/getting-started/faq/#how-can-i-save-a-keras-model)\n",
    "\n",
    "You can use `model.save(filepath)` to save a Keras model into a single **HDF5 file** which will contain:\n",
    "\n",
    "- the architecture of the model, allowing to re-create the model\n",
    "- the weights of the model\n",
    "- the training configuration (loss, optimizer)\n",
    "- the state of the optimizer, allowing to resume training exactly where you left off.\n",
    "\n",
    "You can then use `keras.models.load_model(filepath)` to reinstantiate your model. load_model will also take care of compiling the model using the saved training configuration (unless the model was never compiled in the first place)."
   ]
  },
  {
   "cell_type": "code",
   "execution_count": 19,
   "metadata": {},
   "outputs": [
    {
     "name": "stdout",
     "output_type": "stream",
     "text": [
      "Saved trained model at ./mnist/model/keras_mnist.h5 \n"
     ]
    }
   ],
   "source": [
    "import os\n",
    "import tensorflow.gfile as gfile\n",
    "\n",
    "# 保存文件的目录\n",
    "save_dir = \"./mnist/model/\"\n",
    "if gfile.Exists(save_dir):\n",
    "    gfile.DeleteRecursively(save_dir)\n",
    "gfile.MakeDirs(save_dir)\n",
    "\n",
    "# HDF5文件格式，karas的格式，包含模型的格式，网络结构，参数，\n",
    "# 训练配置（loss，optimizer等），optimizer的状态（用于继续训练、retrain等）\n",
    "model_name = 'keras_mnist.h5'\n",
    "model_path = os.path.join(save_dir, model_name)\n",
    "model.save(model_path)\n",
    "print('Saved trained model at %s ' % model_path)"
   ]
  },
  {
   "cell_type": "markdown",
   "metadata": {},
   "source": [
    "## 加载模型"
   ]
  },
  {
   "cell_type": "code",
   "execution_count": 20,
   "metadata": {},
   "outputs": [],
   "source": [
    "from keras.models import load_model\n",
    "\n",
    "# 先前保存的文件可以重新加载回来\n",
    "mnist_model = load_model(model_path)"
   ]
  },
  {
   "cell_type": "markdown",
   "metadata": {},
   "source": [
    "## 统计模型在测试集上的分类结果"
   ]
  },
  {
   "cell_type": "code",
   "execution_count": 21,
   "metadata": {},
   "outputs": [
    {
     "name": "stdout",
     "output_type": "stream",
     "text": [
      "Test Loss: 0.08524727754928609\n",
      "Test Accuracy: 97.50999999999999%\n",
      "Classified correctly count: 9751\n",
      "Classified incorrectly count: 249\n"
     ]
    }
   ],
   "source": [
    "# 对测试集样本进行预测，检查loss值以及metrics值\n",
    "loss_and_metrics = mnist_model.evaluate(X_test, Y_test, verbose=2)\n",
    "\n",
    "print(\"Test Loss: {}\".format(loss_and_metrics[0]))\n",
    "print(\"Test Accuracy: {}%\".format(loss_and_metrics[1]*100))\n",
    "\n",
    "# 模型对测试集样本预测结果\n",
    "predicted_classes = mnist_model.predict_classes(X_test)\n",
    "\n",
    "# 预测正确、错误的样本\n",
    "correct_indices = np.nonzero(predicted_classes == y_test)[0]\n",
    "incorrect_indices = np.nonzero(predicted_classes != y_test)[0]\n",
    "print(\"Classified correctly count: {}\".format(len(correct_indices)))\n",
    "print(\"Classified incorrectly count: {}\".format(len(incorrect_indices)))"
   ]
  },
  {
   "cell_type": "code",
   "execution_count": 43,
   "metadata": {},
   "outputs": [
    {
     "data": {
      "image/png": "[encoded data removed]",
      "text/plain": [
       "<Figure size 432x288 with 15 Axes>"
      ]
     },
     "metadata": {},
     "output_type": "display_data"
    }
   ],
   "source": [
    "# 参照之前代码，把预测正确，错误的样本绘制出来\n",
    "import matplotlib.pyplot as plt\n",
    "\n",
    "pic_idx = 1\n",
    "max_num = 15 #5*3 = 15\n",
    "fig = plt.figure()\n",
    "for i in incorrect_indices:\n",
    "    plt.subplot(3,5,pic_idx) # 绘制前15个手写体数字，以3行5列子图形式展示\n",
    "    plt.tight_layout() # 自动适配子图尺寸\n",
    "    plt.imshow(x_test[i], cmap='Greys') # 使用灰色显示像素灰度值\n",
    "    plt.title(\"Label: {}\".format(predicted_classes[i])) # 设置标签为子图标题\n",
    "    plt.xticks([]) # 删除x轴标记\n",
    "    plt.yticks([]) # 删除y轴标记\n",
    "    pic_idx += 1 \n",
    "    if (pic_idx > max_num):\n",
    "        break"
   ]
  },
  {
   "cell_type": "code",
   "execution_count": null,
   "metadata": {},
   "outputs": [],
   "source": []
  }
 ],
 "metadata": {
  "kernelspec": {
   "display_name": "Python 3",
   "language": "python",
   "name": "python3"
  },
  "language_info": {
   "codemirror_mode": {
    "name": "ipython",
    "version": 3
   },
   "file_extension": ".py",
   "mimetype": "text/x-python",
   "name": "python",
   "nbconvert_exporter": "python",
   "pygments_lexer": "ipython3",
   "version": "3.5.2"
  }
 },
 "nbformat": 4,
 "nbformat_minor": 2
}
