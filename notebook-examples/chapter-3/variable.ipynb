{
 "cells": [
  {
   "cell_type": "code",
   "execution_count": 11,
   "metadata": {},
   "outputs": [],
   "source": [
    "import tensorflow as tf"
   ]
  },
  {
   "cell_type": "code",
   "execution_count": 12,
   "metadata": {},
   "outputs": [],
   "source": [
    "# 创建变量\n",
    "# tf.random_normal 方法返回形状为(1，4)的张量，并命名为W\n",
    "#   它的4个元素符合均值为100、标准差为0.35的正态分布。\n",
    "# \n",
    "W = tf.Variable(initial_value=tf.random_normal(shape=(1, 4), mean=100, stddev=0.35), name=\"W\")\n",
    "b = tf.Variable(tf.zeros([4]), name=\"b\")"
   ]
  },
  {
   "cell_type": "code",
   "execution_count": 13,
   "metadata": {},
   "outputs": [
    {
     "data": {
      "text/plain": [
       "[<tf.Variable 'W_1:0' shape=(1, 4) dtype=float32_ref>,\n",
       " <tf.Variable 'b_1:0' shape=(4,) dtype=float32_ref>]"
      ]
     },
     "execution_count": 13,
     "metadata": {},
     "output_type": "execute_result"
    }
   ],
   "source": [
    "# 已经有名字W，b了，不再是variable0，variable1\n",
    "[W, b]"
   ]
  },
  {
   "cell_type": "code",
   "execution_count": 14,
   "metadata": {},
   "outputs": [
    {
     "data": {
      "text/plain": [
       "[array([[100.58703,  99.85105,  99.76723, 100.18915]], dtype=float32),\n",
       " array([0., 0., 0., 0.], dtype=float32)]"
      ]
     },
     "execution_count": 14,
     "metadata": {},
     "output_type": "execute_result"
    }
   ],
   "source": [
    "# 初始化变量\n",
    "# 创建会话（之后小节介绍，现在理解为运行环境，从会话可以得到资源）\n",
    "sess = tf.Session()\n",
    "# 使用 global_variables_initializer 方法初始化全局变量 W 和 b\n",
    "# 执行操作、给W和b赋值\n",
    "sess.run(tf.global_variables_initializer())\n",
    "# 执行操作、来看结果\n",
    "# W：正太分布初始化（tf.random_normal)\n",
    "# b: 零值（tf.zero)\n",
    "sess.run([W, b])"
   ]
  },
  {
   "cell_type": "code",
   "execution_count": 15,
   "metadata": {},
   "outputs": [
    {
     "data": {
      "text/plain": [
       "array([1., 1., 1., 1.], dtype=float32)"
      ]
     },
     "execution_count": 15,
     "metadata": {},
     "output_type": "execute_result"
    }
   ],
   "source": [
    "# 执行更新变量 b 的操作\n",
    "# 用 assign 或者 assign_add，传入一个一阶张量，做向量相加\n",
    "# 执行操作、更新 b\n",
    "sess.run(tf.assign_add(b, [1, 1, 1, 1]))"
   ]
  },
  {
   "cell_type": "code",
   "execution_count": 16,
   "metadata": {},
   "outputs": [
    {
     "data": {
      "text/plain": [
       "array([1., 1., 1., 1.], dtype=float32)"
      ]
     },
     "execution_count": 16,
     "metadata": {},
     "output_type": "execute_result"
    }
   ],
   "source": [
    "# 执行操作、查看变量 b 是否更新成功\n",
    "sess.run(b)"
   ]
  },
  {
   "cell_type": "markdown",
   "metadata": {},
   "source": [
    "### Saver 使用示例：保存和恢复变量\n",
    "```PYTHON\n",
    "# 定义要保存的变量\n",
    "# v1是变量，name='v1'是定义变量操作的名称\n",
    "v1 = tf.Variable(..., name='v1')  \n",
    "v2 = tf.Variable(..., name='v2')\n",
    "# 指定需要保存和恢复的变量\n",
    "# saver接受字典、变量列表两种方式的变量\n",
    "#  字典：{'v1':v1, ...}  \n",
    "#    'v1': 保存到文件中的变量名\n",
    "#     v1 : 数据流图中的变量\n",
    "#  变量列表：[v1, ...]\n",
    "#     v1 : 数据流图中变量v1的操作name=‘v1’中的'v1'作为文件中的变量名\n",
    "#  与上面的变量列表等价：\n",
    "#     更显示的方式保存，v.op.name就是上面操作的名称（如name='v1'中的‘v1’）\n",
    "saver = tf.train.Saver({'v1': v1, 'v2': v2})\n",
    "saver = tf.train.Saver([v1, v2])\n",
    "saver = tf.train.Saver({v.op.name: v for v in [v1, v2]})\n",
    "# 执行变量保存操作\n",
    "#  sess：数据流图相关信息在这里\n",
    "#  ‘my-model’: 文件名前缀\n",
    "#  global_step: 推荐使用，指明了当前训练的步数，回溯/查看问题/找步骤中哪步的某个训练指标最好等\n",
    "tf.train.saver.save(sess, 'my-model', global_step=0) # ==> filename: 'my-model-0'\n",
    "```"
   ]
  },
  {
   "cell_type": "code",
   "execution_count": 17,
   "metadata": {
    "scrolled": true
   },
   "outputs": [
    {
     "data": {
      "text/plain": [
       "'./summary/test.ckpt-0'"
      ]
     },
     "execution_count": 17,
     "metadata": {},
     "output_type": "execute_result"
    }
   ],
   "source": [
    "# 创建Saver\n",
    "saver = tf.train.Saver({'W': W, 'b': b})\n",
    "# 存储变量到文件 './summary/test.ckpt-0'\n",
    "saver.save(sess, './summary/test.ckpt', global_step=0)\n",
    "# 打开目录查看\n",
    "#   test.ckpt-0.data-00000-of-00001: 变量实际值\n",
    "#   test.ckpt-0.meta: 数据流图的结构\n",
    "#   test.ckpt-0.index: 索引、数据流图很大时（迭代步骤的增加），用索引可以快速找回数据\n",
    "# 但是这些后缀都已经被tf封装好了，我们只需要关注前缀‘./summary/test.ckpt-0’就够了"
   ]
  },
  {
   "cell_type": "code",
   "execution_count": 18,
   "metadata": {},
   "outputs": [
    {
     "data": {
      "text/plain": [
       "array([2., 2., 2., 2.], dtype=float32)"
      ]
     },
     "execution_count": 18,
     "metadata": {},
     "output_type": "execute_result"
    }
   ],
   "source": [
    "# 再次执行更新变量 b 的操作，为了之后与从文件中恢复的数据对比\n",
    "sess.run(tf.assign_add(b, [1, 1, 1, 1]))\n",
    "# 获取变量 b 的最新值\n",
    "sess.run(b)"
   ]
  },
  {
   "cell_type": "code",
   "execution_count": 19,
   "metadata": {},
   "outputs": [
    {
     "data": {
      "text/plain": [
       "array([1., 1., 1., 1.], dtype=float32)"
      ]
     },
     "execution_count": 19,
     "metadata": {},
     "output_type": "execute_result"
    }
   ],
   "source": [
    "# 从文件中恢复变量 b 的值\n",
    "saver.restore(sess, './summary/test.ckpt-0')\n",
    "# 查看变量 b 是否恢复成功\n",
    "sess.run(b)"
   ]
  },
  {
   "cell_type": "code",
   "execution_count": 10,
   "metadata": {},
   "outputs": [],
   "source": [
    "# 上面只是恢复数据，实际训练中，往往恢复数据不够用，还需要恢复整个数据流图的结构\n",
    "# 从文件中恢复数据流图结构（即上面对应的*.meta文件）\n",
    "# tf.train.import_meta_graph"
   ]
  },
  {
   "cell_type": "code",
   "execution_count": null,
   "metadata": {},
   "outputs": [],
   "source": []
  }
 ],
 "metadata": {
  "kernelspec": {
   "display_name": "Python 2",
   "language": "python",
   "name": "python2"
  },
  "language_info": {
   "codemirror_mode": {
    "name": "ipython",
    "version": 2
   },
   "file_extension": ".py",
   "mimetype": "text/x-python",
   "name": "python",
   "nbconvert_exporter": "python",
   "pygments_lexer": "ipython2",
   "version": "2.7.12"
  }
 },
 "nbformat": 4,
 "nbformat_minor": 2
}
