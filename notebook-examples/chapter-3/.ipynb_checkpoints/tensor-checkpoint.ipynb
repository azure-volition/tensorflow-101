{
 "cells": [
  {
   "cell_type": "code",
   "execution_count": 1,
   "metadata": {},
   "outputs": [],
   "source": [
    "import tensorflow as tf"
   ]
  },
  {
   "cell_type": "code",
   "execution_count": 2,
   "metadata": {},
   "outputs": [],
   "source": [
    "# 定义4个0阶张量：不是使用tf.tensor，而是使用操作来创建张量\n",
    "mammal = tf.Variable(\"Elephant\", tf.string)\n",
    "ignition = tf.Variable(451, tf.int16)\n",
    "floating = tf.Variable(3.14159265359, tf.float64)\n",
    "its_complicated = tf.Variable(12.3 - 4.85j, tf.complex64)"
   ]
  },
  {
   "cell_type": "code",
   "execution_count": 3,
   "metadata": {},
   "outputs": [
    {
     "data": {
      "text/plain": [
       "[<tf.Variable 'Variable:0' shape=() dtype=string_ref>,\n",
       " <tf.Variable 'Variable_1:0' shape=() dtype=int32_ref>,\n",
       " <tf.Variable 'Variable_2:0' shape=() dtype=float32_ref>,\n",
       " <tf.Variable 'Variable_3:0' shape=() dtype=complex128_ref>]"
      ]
     },
     "execution_count": 3,
     "metadata": {},
     "output_type": "execute_result"
    }
   ],
   "source": [
    "# 打印这组0阶张量\n",
    "# 打印的数据结构中，Variable:0是张量的名字，shape是形状，dtype是数据类型\n",
    "[mammal, ignition, floating, its_complicated]"
   ]
  },
  {
   "cell_type": "code",
   "execution_count": 5,
   "metadata": {},
   "outputs": [],
   "source": [
    "# 定义4个1阶张量，需要初始值，数据类型，还有个可选参数指定张量的名字\n",
    "mystr = tf.Variable([\"Hello\", \"World\"], tf.string)\n",
    "cool_numbers  = tf.Variable([3.14159, 2.71828], tf.float32)\n",
    "first_primes = tf.Variable([2, 3, 5, 7, 11], tf.int32)\n",
    "its_very_complicated = tf.Variable([12.3 - 4.85j, 7.5 - 6.23j], tf.complex64)"
   ]
  },
  {
   "cell_type": "code",
   "execution_count": 6,
   "metadata": {},
   "outputs": [
    {
     "data": {
      "text/plain": [
       "[<tf.Variable 'Variable_8:0' shape=(2,) dtype=string_ref>,\n",
       " <tf.Variable 'Variable_9:0' shape=(2,) dtype=float32_ref>,\n",
       " <tf.Variable 'Variable_10:0' shape=(5,) dtype=int32_ref>,\n",
       " <tf.Variable 'Variable_11:0' shape=(2,) dtype=complex128_ref>]"
      ]
     },
     "execution_count": 6,
     "metadata": {},
     "output_type": "execute_result"
    }
   ],
   "source": [
    "# 打印4个1阶张量\n",
    "# 第一个shape是(2,)表示张量[\"Hello\",\"World\"]的形状\n",
    "[mystr, cool_numbers, first_primes, its_very_complicated]"
   ]
  },
  {
   "cell_type": "code",
   "execution_count": 4,
   "metadata": {},
   "outputs": [],
   "source": [
    "# 定义4个2阶张量\n",
    "mymat = tf.Variable([[7],[11]], tf.int16)\n",
    "myxor = tf.Variable([[False, True],[True, False]], tf.bool)\n",
    "linear_squares = tf.Variable([[4], [9], [16], [25]], tf.int32)\n",
    "squarish_squares = tf.Variable([ [4, 9], [16, 25] ], tf.int32)\n",
    "# 用rank可以知道一个张量的阶数是多少，目前只能知道是一个int32类型的张量，\n",
    "# 怎样计算阶数，在后面通过会话来具体算出来\n",
    "rank_of_squares = tf.rank(squarish_squares)\n",
    "# 再定义一个张量\n",
    "mymatC = tf.Variable([[7],[11]], tf.int32)"
   ]
  },
  {
   "cell_type": "code",
   "execution_count": 8,
   "metadata": {},
   "outputs": [
    {
     "data": {
      "text/plain": [
       "[<tf.Variable 'Variable_12:0' shape=(2, 1) dtype=int32_ref>,\n",
       " <tf.Variable 'Variable_13:0' shape=(2, 2) dtype=bool_ref>,\n",
       " <tf.Variable 'Variable_14:0' shape=(4, 1) dtype=int32_ref>,\n",
       " <tf.Variable 'Variable_15:0' shape=(2, 2) dtype=int32_ref>,\n",
       " <tf.Tensor 'Rank:0' shape=() dtype=int32>,\n",
       " <tf.Variable 'Variable_16:0' shape=(2, 1) dtype=int32_ref>]"
      ]
     },
     "execution_count": 8,
     "metadata": {},
     "output_type": "execute_result"
    }
   ],
   "source": [
    "# 打印6个2阶张量，形状已经不一样了\n",
    "# 2阶张量有2个维度，每个维度值是多少，取决于形状\n",
    "[mymat, myxor, linear_squares, squarish_squares, rank_of_squares, mymatC]"
   ]
  },
  {
   "cell_type": "code",
   "execution_count": 9,
   "metadata": {},
   "outputs": [],
   "source": [
    "# 4阶张量\n",
    "#    tf.zero根据任意一个数组初始化一个全0的张量，这里初始化一个4阶的张量，\n",
    "#    4个维度的数值分别是10，299，299，3，\n",
    "#    4阶张量的每一个元素都被初始化为0\n",
    "# 通过tf.variable返回的是tf.variable（variable是特殊的张量）\n",
    "# 通过tf.zero返回的是tf.tensor\n",
    "# tf.tensor和tf.variable的区别是：\n",
    "#    tf.tensor会在一轮训练完被垃圾回收掉\n",
    "#    tf.variable在一轮训练完之后仍然保留，保存在内存中留给下一轮使用，而不需要重新家在\n",
    "my_image = tf.zeros([10, 299, 299, 3])  # batch x height x width x color"
   ]
  },
  {
   "cell_type": "code",
   "execution_count": 10,
   "metadata": {},
   "outputs": [
    {
     "data": {
      "text/plain": [
       "<tf.Tensor 'zeros:0' shape=(10, 299, 299, 3) dtype=float32>"
      ]
     },
     "execution_count": 10,
     "metadata": {},
     "output_type": "execute_result"
    }
   ],
   "source": [
    "my_image"
   ]
  },
  {
   "cell_type": "code",
   "execution_count": null,
   "metadata": {},
   "outputs": [],
   "source": []
  }
 ],
 "metadata": {
  "kernelspec": {
   "display_name": "Python 2",
   "language": "python",
   "name": "python2"
  },
  "language_info": {
   "codemirror_mode": {
    "name": "ipython",
    "version": 2
   },
   "file_extension": ".py",
   "mimetype": "text/x-python",
   "name": "python",
   "nbconvert_exporter": "python",
   "pygments_lexer": "ipython2",
   "version": "2.7.12"
  }
 },
 "nbformat": 4,
 "nbformat_minor": 2
}
